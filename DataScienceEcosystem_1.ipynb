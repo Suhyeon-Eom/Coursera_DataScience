{
 "cells": [
  {
   "cell_type": "markdown",
   "id": "e6fed2b6",
   "metadata": {},
   "source": [
    "# Data Science Tools and Ecosystem"
   ]
  },
  {
   "cell_type": "markdown",
   "id": "8add13ac",
   "metadata": {},
   "source": [
    "In this notebook, Data Science Tools and Ecosystem are summarized."
   ]
  },
  {
   "cell_type": "markdown",
   "id": "f1cdddf9",
   "metadata": {},
   "source": [
    "## Some of the commonly used libraries used by Data Scientists include:"
   ]
  },
  {
   "cell_type": "markdown",
   "id": "7a49408e",
   "metadata": {},
   "source": [
    "### Ordered list"
   ]
  },
  {
   "cell_type": "markdown",
   "id": "11af1211",
   "metadata": {},
   "source": [
    "<ol>\n",
    "<li>R</li>\n",
    "<li>Python</li>\n",
    "<li>Visual Studio</li>\n",
    "</ol>"
   ]
  },
  {
   "cell_type": "markdown",
   "id": "9b9cee3a",
   "metadata": {},
   "source": [
    "## Some of the commonly used libraries used by Data Scientists include:"
   ]
  },
  {
   "cell_type": "markdown",
   "id": "6d02cfc4",
   "metadata": {},
   "source": [
    "### Ordered list"
   ]
  },
  {
   "cell_type": "markdown",
   "id": "a0c00d32",
   "metadata": {},
   "source": [
    "<ul>\n",
    "<li>Julia</li>\n",
    "<li>C++</li>\n",
    "<li>JAVA</li>\n",
    "</ul>"
   ]
  },
  {
   "cell_type": "markdown",
   "id": "933e7a56",
   "metadata": {},
   "source": [
    "## Data Science Tools"
   ]
  },
  {
   "cell_type": "markdown",
   "id": "987c0059",
   "metadata": {},
   "source": [
    "|  | Numbers #  | Tools    |\n",
    "|-:|:-----------|:---------|\n",
    "|  | 1          | Pytorch  | \n",
    "|  | 2          | C        | \n",
    "|  | 3          | Scala    | "
   ]
  },
  {
   "cell_type": "markdown",
   "id": "8f57afe8",
   "metadata": {},
   "source": [
    "### Below are a few examples of evaluating arithmetic expressions in Python"
   ]
  },
  {
   "cell_type": "markdown",
   "id": "869044b9",
   "metadata": {},
   "source": [
    "3+3\n",
    "\n",
    "3-3\n",
    "\n",
    "3**3"
   ]
  },
  {
   "cell_type": "markdown",
   "id": "40c10f6c",
   "metadata": {},
   "source": [
    "This a simple arithmetic expression to mutiply then add integers"
   ]
  },
  {
   "cell_type": "code",
   "execution_count": 12,
   "id": "d6a8cadf",
   "metadata": {},
   "outputs": [
    {
     "data": {
      "text/plain": [
       "17"
      ]
     },
     "execution_count": 12,
     "metadata": {},
     "output_type": "execute_result"
    }
   ],
   "source": [
    "(3*4)+5"
   ]
  },
  {
   "cell_type": "markdown",
   "id": "8ffcc703",
   "metadata": {},
   "source": [
    "This will convert 200 minutes to hours by diving by 60"
   ]
  },
  {
   "cell_type": "code",
   "execution_count": 14,
   "id": "05c6da8e",
   "metadata": {},
   "outputs": [
    {
     "name": "stdout",
     "output_type": "stream",
     "text": [
      "6\n"
     ]
    }
   ],
   "source": [
    "total_minutes = 374\n",
    "hours = total_minutes // 60\n",
    "time_string = \"{}\".format(hours)\n",
    "print(time_string)"
   ]
  },
  {
   "cell_type": "markdown",
   "id": "a76f4e5c",
   "metadata": {},
   "source": [
    "Objectives:"
   ]
  },
  {
   "cell_type": "markdown",
   "id": "d763aa8e",
   "metadata": {},
   "source": [
    "unordered list"
   ]
  },
  {
   "cell_type": "markdown",
   "id": "edfbef5e",
   "metadata": {},
   "source": [
    "List popular languages for Data Science"
   ]
  },
  {
   "cell_type": "markdown",
   "id": "e8c4f1ee",
   "metadata": {},
   "source": [
    "<ul>\n",
    "<li>Julia</li>\n",
    "<li>C++</li>\n",
    "<li>JAVA</li>\n",
    "<li>Python</li>\n",
    "<li>R</li>\n",
    "</ul>"
   ]
  },
  {
   "cell_type": "markdown",
   "id": "358f7c20",
   "metadata": {},
   "source": [
    "## Author\n",
    "#### Suhyeon_Eom"
   ]
  },
  {
   "cell_type": "code",
   "execution_count": null,
   "id": "9186c83a",
   "metadata": {},
   "outputs": [],
   "source": []
  }
 ],
 "metadata": {
  "kernelspec": {
   "display_name": "Python 3 (ipykernel)",
   "language": "python",
   "name": "python3"
  },
  "language_info": {
   "codemirror_mode": {
    "name": "ipython",
    "version": 3
   },
   "file_extension": ".py",
   "mimetype": "text/x-python",
   "name": "python",
   "nbconvert_exporter": "python",
   "pygments_lexer": "ipython3",
   "version": "3.10.9"
  }
 },
 "nbformat": 4,
 "nbformat_minor": 5
}
